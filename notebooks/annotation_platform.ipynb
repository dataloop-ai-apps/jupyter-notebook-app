{
  "cells": [
    {
      "cell_type": "markdown",
      "metadata": {},
      "source": [
        "# Annotation Platform"
      ]
    },
    {
      "cell_type": "markdown",
      "metadata": {},
      "source": [
        "## 1. Create Pipeline"
      ]
    },
    {
      "cell_type": "code",
      "execution_count": null,
      "metadata": {},
      "outputs": [],
      "source": [
        "import dtlpy as dl\n",
        "\n",
        "project_id = 'project_id'\n",
        "pipeline_name = 'my pipeline'\n",
        "\n",
        "project = dl.projects.get(project_id=project_id)\n",
        "pipeline = project.pipelines.create(pipeline_name=pipeline_name)"
      ]
    },
    {
      "cell_type": "markdown",
      "metadata": {},
      "source": [
        "Refresh the page and open the pipeline in edit mode"
      ]
    },
    {
      "cell_type": "markdown",
      "metadata": {},
      "source": [
        "## 2. Add Dataset Node to the Pipeline"
      ]
    },
    {
      "cell_type": "markdown",
      "metadata": {},
      "source": [
        "First create a dataset using the sdk"
      ]
    },
    {
      "cell_type": "code",
      "execution_count": null,
      "metadata": {},
      "outputs": [],
      "source": [
        "import dtlpy as dl\n",
        "\n",
        "project_id = 'project_id'\n",
        "dataset_name = 'my dataset'\n",
        "\n",
        "project = dl.projects.get(project_id=project_id)\n",
        "dataset = project.datasets.create(dataset_name=dataset_name)"
      ]
    },
    {
      "cell_type": "markdown",
      "metadata": {},
      "source": [
        "Add the dataset as a dataset node in the pipeline"
      ]
    },
    {
      "cell_type": "code",
      "execution_count": null,
      "metadata": {},
      "outputs": [],
      "source": [
        "import dtlpy as dl\n",
        "\n",
        "project_id = 'project_id'\n",
        "dataset_name = 'my dataset'\n",
        "pipeline_name = 'my pipeline'\n",
        "\n",
        "project = dl.projects.get(project_id=project_id)\n",
        "dataset = project.datasets.get(dataset_name=dataset_name)\n",
        "pipeline = project.pipelines.get(pipeline_name=pipeline_name)\n",
        "\n",
        "dataset_node = dl.DatasetNode(name=dataset_name,\n",
        "                              project_id=project.id,\n",
        "                              dataset_id=dataset.id,\n",
        "                              position=(1, 1))\n",
        "pipeline.nodes.add(node=dataset_node)\n",
        "pipeline.update()"
      ]
    },
    {
      "cell_type": "markdown",
      "metadata": {},
      "source": [
        "Refresh the page"
      ]
    },
    {
      "cell_type": "markdown",
      "metadata": {},
      "source": [
        "## 3. Add Annotation Task Node to the Pipeline"
      ]
    },
    {
      "cell_type": "code",
      "execution_count": null,
      "metadata": {},
      "outputs": [],
      "source": [
        "import dtlpy as dl\n",
        "\n",
        "project_id = 'project_id'\n",
        "dataset_name = 'my dataset'\n",
        "pipeline_name = 'my pipeline'\n",
        "\n",
        "task_name = 'annotation task'\n",
        "my_user = dl.info()[\"user_email\"]\n",
        "task_owner = my_user\n",
        "assignee_ids = [my_user]\n",
        "\n",
        "project = dl.projects.get(project_id=project_id)\n",
        "dataset = project.datasets.get(dataset_name=dataset_name)\n",
        "pipeline = project.pipelines.get(pipeline_name=pipeline_name)\n",
        "\n",
        "recipe = dataset.recipes.list()[0]\n",
        "workload = dl.Workload.generate(assignee_ids=assignee_ids).workload\n",
        "\n",
        "task_node = dl.TaskNode(name=task_name,\n",
        "                        project_id=project.id,\n",
        "                        dataset_id=dataset.id,\n",
        "                        recipe_title=recipe.title,\n",
        "                        recipe_id=recipe.id,\n",
        "                        task_owner=task_owner,\n",
        "                        workload=workload,\n",
        "                        task_type='annotation',\n",
        "                        position=(2, 1))\n",
        "pipeline.nodes.add(node=task_node)\n",
        "pipeline.update()"
      ]
    },
    {
      "cell_type": "markdown",
      "metadata": {},
      "source": [
        "Refresh the page"
      ]
    },
    {
      "cell_type": "markdown",
      "metadata": {},
      "source": [
        "## 4. Add QA Task Node to the Pipeline"
      ]
    },
    {
      "cell_type": "code",
      "execution_count": null,
      "metadata": {},
      "outputs": [],
      "source": [
        "import dtlpy as dl\n",
        "\n",
        "project_id = 'project_id'\n",
        "dataset_name = 'my dataset'\n",
        "pipeline_name = 'my pipeline'\n",
        "\n",
        "task_name = 'qa task'\n",
        "my_user = dl.info()[\"user_email\"]\n",
        "task_owner = my_user\n",
        "assignee_ids = [my_user]\n",
        "\n",
        "project = dl.projects.get(project_id=project_id)\n",
        "dataset = project.datasets.get(dataset_name=dataset_name)\n",
        "pipeline = project.pipelines.get(pipeline_name=pipeline_name)\n",
        "\n",
        "recipe = dataset.recipes.list()[0]\n",
        "workload = dl.Workload.generate(assignee_ids=assignee_ids).workload\n",
        "\n",
        "task_node = dl.TaskNode(name=task_name,\n",
        "                        project_id=project.id,\n",
        "                        dataset_id=dataset.id,\n",
        "                        recipe_title=recipe.title,\n",
        "                        recipe_id=recipe.id,\n",
        "                        task_owner=task_owner,\n",
        "                        workload=workload,\n",
        "                        task_type='qa',\n",
        "                        position=(3, 1))\n",
        "pipeline.nodes.add(node=task_node)\n",
        "pipeline.update()"
      ]
    },
    {
      "cell_type": "markdown",
      "metadata": {},
      "source": [
        "Refresh the page"
      ]
    },
    {
      "cell_type": "markdown",
      "metadata": {},
      "source": [
        "## 5. Connect the Pipeline Nodes"
      ]
    },
    {
      "cell_type": "code",
      "execution_count": null,
      "metadata": {},
      "outputs": [],
      "source": [
        "import dtlpy as dl\n",
        "\n",
        "project_id = 'project_id'\n",
        "pipeline_name = 'my pipeline'\n",
        "\n",
        "dataset_node_name = 'my dataset'\n",
        "annotation_task_node_name = 'annotation task'\n",
        "qa_task_node_name = 'qa task'\n",
        "\n",
        "project = dl.projects.get(project_id=project_id)\n",
        "pipeline = project.pipelines.get(pipeline_name=pipeline_name)\n",
        "\n",
        "dataset_node = None\n",
        "annotation_task_node = None\n",
        "qa_task_node = None\n",
        "for node in pipeline.nodes:\n",
        "    if node.name == dataset_node_name:\n",
        "        dataset_node = node\n",
        "    elif node.name == annotation_task_node_name:\n",
        "        annotation_task_node = node\n",
        "    elif node.name == qa_task_node_name:\n",
        "        qa_task_node = node\n",
        "    else:\n",
        "        continue\n",
        "\n",
        "dataset_node.connect(\n",
        "    node=annotation_task_node,\n",
        "    source_port=dataset_node.outputs[0],\n",
        "    target_port=annotation_task_node.inputs[0],\n",
        ")\n",
        "annotation_task_node.connect(\n",
        "    node=qa_task_node,\n",
        "    source_port=annotation_task_node.outputs[0],\n",
        "    target_port=qa_task_node.inputs[0],\n",
        "    action='completed'\n",
        ")\n",
        "pipeline.update()"
      ]
    },
    {
      "cell_type": "markdown",
      "metadata": {},
      "source": [
        "Refresh the page"
      ]
    },
    {
      "cell_type": "markdown",
      "metadata": {},
      "source": [
        "## 6. Add Trigger to the Dataset Node"
      ]
    },
    {
      "cell_type": "code",
      "execution_count": null,
      "metadata": {},
      "outputs": [],
      "source": [
        "import dtlpy as dl\n",
        "\n",
        "project_id = 'project_id'\n",
        "pipeline_name = 'my pipeline'\n",
        "\n",
        "dataset_node_name = 'my dataset'\n",
        "\n",
        "project = dl.projects.get(project_id=project_id)\n",
        "pipeline = project.pipelines.get(pipeline_name=pipeline_name)\n",
        "\n",
        "dataset_node = None\n",
        "for node in pipeline.nodes:\n",
        "    if node.name == dataset_node_name:\n",
        "        dataset_node = node\n",
        "    else:\n",
        "        continue\n",
        "\n",
        "dataset_node.add_trigger(\n",
        "    trigger_type=dl.TriggerType.EVENT,\n",
        "    resource=dl.TriggerResource.ITEM,\n",
        "    actions=dl.TriggerAction.CREATED,\n",
        "    execution_mode=dl.TriggerExecutionMode.ONCE\n",
        ")\n",
        "pipeline.update()"
      ]
    },
    {
      "cell_type": "markdown",
      "metadata": {},
      "source": [
        "Refresh the page"
      ]
    },
    {
      "cell_type": "markdown",
      "metadata": {},
      "source": [
        "## 7. Install the Pipeline"
      ]
    },
    {
      "cell_type": "code",
      "execution_count": null,
      "metadata": {},
      "outputs": [],
      "source": [
        "import dtlpy as dl\n",
        "\n",
        "project_id = 'project_id'\n",
        "pipeline_name = 'my pipeline'\n",
        "\n",
        "project = dl.projects.get(project_id=project_id)\n",
        "pipeline = project.pipelines.get(pipeline_name=pipeline_name)\n",
        "\n",
        "pipeline.install()"
      ]
    },
    {
      "cell_type": "markdown",
      "metadata": {},
      "source": [
        "Refresh the page and change to View Mode"
      ]
    },
    {
      "cell_type": "markdown",
      "metadata": {},
      "source": [
        "## 9. Trigger the pipeline by uploading an Item"
      ]
    },
    {
      "cell_type": "code",
      "execution_count": null,
      "metadata": {},
      "outputs": [],
      "source": []
    }
  ],
  "metadata": {
    "kernelspec": {
      "display_name": "Python 3",
      "language": "python",
      "name": "python3"
    },
    "language_info": {
      "codemirror_mode": {
        "name": "ipython",
        "version": 3
      },
      "file_extension": ".py",
      "mimetype": "text/x-python",
      "name": "python",
      "nbconvert_exporter": "python",
      "pygments_lexer": "ipython3",
      "version": "3.10.14"
    }
  },
  "nbformat": 4,
  "nbformat_minor": 4
}
