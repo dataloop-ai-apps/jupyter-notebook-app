{
  "cells": [
    {
      "cell_type": "markdown",
      "metadata": {},
      "source": [
        "# Annotation Platform"
      ]
    },
    {
      "cell_type": "markdown",
      "metadata": {},
      "source": [
        "## 1. Creating pipeline"
      ]
    },
    {
      "cell_type": "code",
      "execution_count": null,
      "metadata": {},
      "outputs": [],
      "source": [
        "import dtlpy as dl\n",
        "\n",
        "project_id = 'project_id'\n",
        "pipeline_name = 'annotation_platform_flow'\n",
        "\n",
        "project = dl.projects.get(project_id=project_id)\n",
        "pipeline = project.pipelines.create(pipeline_name=pipeline_name)"
      ]
    },
    {
      "cell_type": "markdown",
      "metadata": {},
      "source": [
        "## 2. Add Dataset Node to the pipeline"
      ]
    },
    {
      "cell_type": "code",
      "execution_count": null,
      "metadata": {},
      "outputs": [],
      "source": [
        "import dtlpy as dl\n",
        "\n",
        "project_id = 'project_id'\n",
        "dataset_name = 'V2 Plant Seedlings Dataset'\n",
        "pipeline_name = 'annotation_platform_flow'\n",
        "\n",
        "project = dl.projects.get(project_id=project_id)\n",
        "dataset = project.datasets.get(dataset_name=dataset_name)\n",
        "pipeline = project.pipelines.get(pipeline_name=pipeline_name)\n",
        "\n",
        "dataset_node = dl.DatasetNode(name=dataset_name,\n",
        "                              project_id=project.id,\n",
        "                              dataset_id=dataset.id,\n",
        "                              position=(1,1))\n",
        "pipeline.nodes.add(node=dataset_node)\n",
        "pipeline.update()"
      ]
    },
    {
      "cell_type": "markdown",
      "metadata": {},
      "source": [
        "## 3. Add Annotation Task Node to the pipeline"
      ]
    }
  ],
  "metadata": {
    "kernelspec": {
      "display_name": "Python 3",
      "language": "python",
      "name": "python3"
    },
    "language_info": {
      "codemirror_mode": {
        "name": "ipython",
        "version": 3
      },
      "file_extension": ".py",
      "mimetype": "text/x-python",
      "name": "python",
      "nbconvert_exporter": "python",
      "pygments_lexer": "ipython3",
      "version": "3.10.14"
    }
  },
  "nbformat": 4,
  "nbformat_minor": 4
}
