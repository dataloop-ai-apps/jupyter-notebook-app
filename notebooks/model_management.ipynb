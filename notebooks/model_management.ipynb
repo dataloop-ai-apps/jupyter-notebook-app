{
  "cells": [
    {
      "cell_type": "markdown",
      "metadata": {},
      "source": [
        "# Model Management\n",
        "\n",
        "The Model Management module in Dataloop provides a comprehensive solution for managing the entire lifecycle of your AI models. With this module, you have the flexibility to either use pre-existing public AI models or connect and utilize your own custom models.\n",
        "\n",
        "You can train different versions of your models using data Items and their Annotations, experiment with various hyper-parameters to find the best configuration, and evaluate your models by inferencing over Datasets. The module also allows you to compare the training and evaluation metrics of your models, review false-positive and false-negative instances, and make informed decisions based on the results.\n",
        "\n",
        "Once you have trained and evaluated your models, you can deploy them as a service within Dataloop applications. This enables you to run your models at scale and make them available to a wider audience. Additionally, the Model-Management module provides the tools to build continuous learning pipelines, where your models can continuously learn and improve over time.\n"
      ]
    },
    {
      "cell_type": "markdown",
      "metadata": {},
      "source": [
        "## Why use Dataloop's model management feature?\n",
        "\n",
        "Dataloop's model management feature enables machine learning engineers to centralize their AI model research, training, and production processes. The models are executed using Dpks, Datasets, and Artifacts. The code required to run the model is contained in Dpk and pushed to the Dataloop cloud-native SaaS platform. The Datasets hold the images used for training or inference and define which images belong to each subset, such as train/validation/test. Models can be obtained from ready-to-use open source algorithms or created from pre-trained models for further fine-tuning or transfer learning. Additionally, one can upload their own models and evaluate performance by viewing training metrics. All models can be incorporated into the Dataloop platform and integrated into the UI through buttons or slots, or added to Pipelines.\n",
        "\n",
        "The Model Comparison feature in the Dataloop platform enables users to view and compare different versions of models all in one place. This can be done by selecting user-specified metrics to evaluate the models.\n",
        "\n",
        "The Model Management system in the platform can work in two ways: \"offline\" mode and \"online\" mode.\n",
        "\n",
        "* In the **offline mode**, users can train and run models locally using their own data and compare the configurations and metrics of different models on the platform. This mode does not require extensive platform integration and can be used after creating dl.Dpk and dl.Model entities. However, it is limited to visualizing metrics that have been exported from the local model training sessions only. The code and weights of the models are not saved in the Dataloop platform, but the metrics can be viewed at a later time.\n",
        "\n",
        "* On the other hand, the **online mode** allows users to train models that can be deployed anywhere within the platform. For instance, users can create a button interface to use their model for inferencing on new data and view the results on the platform. To use this mode, users must create a ModelAdapter class and implement the required functions to access the Dataloop API. This mode includes all the features available in the \"offline\" mode."
      ]
    },
    {
      "cell_type": "markdown",
      "metadata": {},
      "source": [
        "## Model Management in Dataloop's Python SDK\n",
        "\n",
        "Model Management is also available both in the UI web version of the Dataloop platform and in the Dataloop Python SDK.\n",
        "\n",
        "You can find more about how to use models in our [documentetaion on Model Management](https://developers.dataloop.ai/tutorials/model_management/) or [our Python SDK-focused documentation](https://sdk-docs.dataloop.ai/en/latest/repositories.html#module-dtlpy.repositories.models).\n",
        "\n",
        "Additionally, here are some code snippets that may be useful:"
      ]
    },
    {
      "cell_type": "markdown",
      "metadata": {},
      "source": [
        "### 1. Get a model"
      ]
    },
    {
      "cell_type": "code",
      "execution_count": null,
      "metadata": {},
      "outputs": [],
      "source": [
        "import dtlpy as dl\n",
        "\n",
        "project_id = 'project_id'\n",
        "\n",
        "project = dl.projects.get(project_id=project_id)\n",
        "\n",
        "model = project.models.get(model_name='pretrained-resnet')"
      ]
    },
    {
      "cell_type": "markdown",
      "metadata": {},
      "source": [
        "### 2. Clone a model"
      ]
    },
    {
      "cell_type": "code",
      "execution_count": null,
      "metadata": {
        "scrolled": true
      },
      "outputs": [],
      "source": [
        "import dtlpy as dl\n",
        "\n",
        "project_id = 'project_id'\n",
        "\n",
        "project = dl.projects.get(project_id=project_id)\n",
        "\n",
        "model = project.models.get(model_name='pretrained-resnet')\n",
        "\n",
        "clone_model = model.clone(model_name='my pretrained resnet',\n",
        "                          description='pretrained cloned in to my project',\n",
        "                          project_id=project_id)"
      ]
    },
    {
      "cell_type": "markdown",
      "metadata": {},
      "source": [
        "### 3. Deploy a model"
      ]
    },
    {
      "cell_type": "code",
      "execution_count": null,
      "metadata": {},
      "outputs": [],
      "source": [
        "import dtlpy as dl\n",
        "\n",
        "project_id = 'project_id'\n",
        "\n",
        "project = dl.projects.get(project_id=project_id)\n",
        "\n",
        "model = project.models.get(model_name='pretrained-resnet')\n",
        "\n",
        "model.deploy()"
      ]
    },
    {
      "cell_type": "markdown",
      "metadata": {},
      "source": [
        "### 4. Evaluate a model"
      ]
    },
    {
      "cell_type": "markdown",
      "metadata": {},
      "source": [
        "Notice: To evaluate a model we need to:\n",
        "1. Get a dataset, that will be used for the evaluation.\n",
        "2. Define the test filters, to build the test dataloader."
      ]
    },
    {
      "cell_type": "code",
      "execution_count": null,
      "metadata": {},
      "outputs": [],
      "source": [
        "import dtlpy as dl\n",
        "\n",
        "project_id = 'project_id'\n",
        "dataset_name = 'V2 Plant Seedlings Dataset'\n",
        "\n",
        "project = dl.projects.get(project_id=project_id)\n",
        "dataset = project.datasets.get(dataset_name=dataset_name)\n",
        "\n",
        "test_filters = dl.Filters(field='metadata.system.tags.test', values=True)\n",
        "\n",
        "model = project.models.get(model_name='pretrained-resnet')\n",
        "\n",
        "model.evaluate(dataset_id=dataset.id,\n",
        "               filters=test_filters)"
      ]
    },
    {
      "cell_type": "markdown",
      "metadata": {},
      "source": [
        "### 5. Train a model"
      ]
    },
    {
      "cell_type": "markdown",
      "metadata": {},
      "source": [
        "Notice: Deployed models cannot be trained, so in this example we will use the clone model we created on [step 2: clone a model](model_management.ipynb#2-clone-a-model).\n",
        "\n",
        "To train a model on a dataset we need to:\n",
        "1. Connect a dataset to the model, that will be used for the training.\n",
        "2. Add the train and validation filters to the model, that will help to split the data to train and validation dataloaders."
      ]
    },
    {
      "cell_type": "code",
      "execution_count": null,
      "metadata": {},
      "outputs": [],
      "source": [
        "import dtlpy as dl\n",
        "\n",
        "project_id = 'project_id'\n",
        "dataset_name = 'V2 Plant Seedlings Dataset'\n",
        "\n",
        "project = dl.projects.get(project_id=project_id)\n",
        "dataset = project.datasets.get(dataset_name=dataset_name)\n",
        "\n",
        "train_filters = dl.Filters(field=\"metadata.system.tags.train\", values=True)\n",
        "validation_filters = dl.Filters(field=\"metadata.system.tags.validation\", values=True)\n",
        "\n",
        "model = project.models.get(model_name='my pretrained resnet')\n",
        "model.dataset_id = dataset.id\n",
        "model.add_subset(subset_name=\"train\", subset_filter=train_filters)\n",
        "model.add_subset(subset_name=\"validation\", subset_filter=validation_filters)\n",
        "model.update(system_metadata=True)\n",
        "\n",
        "model.train()"
      ]
    }
  ],
  "metadata": {
    "kernelspec": {
      "display_name": "Python 3 (ipykernel)",
      "language": "python",
      "name": "python3"
    },
    "language_info": {
      "codemirror_mode": {
        "name": "ipython",
        "version": 3
      },
      "file_extension": ".py",
      "mimetype": "text/x-python",
      "name": "python",
      "nbconvert_exporter": "python",
      "pygments_lexer": "ipython3",
      "version": "3.10.14"
    }
  },
  "nbformat": 4,
  "nbformat_minor": 4
}
