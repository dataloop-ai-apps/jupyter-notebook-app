{
  "cells": [
    {
      "cell_type": "markdown",
      "metadata": {},
      "source": [
        "# Model Management\n"
      ]
    },
    {
      "cell_type": "markdown",
      "metadata": {},
      "source": [
        "### 0. [Prerequisite] Install a dataset and a model from an existing dpk on the project"
      ]
    },
    {
      "cell_type": "markdown",
      "metadata": {},
      "source": [
        "Get the current project"
      ]
    },
    {
      "cell_type": "code",
      "execution_count": null,
      "metadata": {},
      "outputs": [],
      "source": [
        "import dtlpy as dl\n",
        "\n",
        "# project_id is automatically set by the notebook \n",
        "project_id = 'project_id'\n",
        "\n",
        "project = dl.projects.get(project_id=project_id)"
      ]
    },
    {
      "cell_type": "markdown",
      "metadata": {},
      "source": [
        "## Install the app from dpk with the dataset and the model\n",
        "\n",
        "A Model (architecture) entity in Dataloop refers to a machine learning algorithm that has been trained on labeled data to make predictions or perform other Tasks. Models are a key component of the Dataloop system, as they enable users to apply machine-learning techniques to a wide range of data types, including images, text, and audio. A Dataloop Model is a combination of data configurations and code to represent a learnable instance of the data.\n",
        "\n"
      ]
    },
    {
      "cell_type": "code",
      "execution_count": 10,
      "metadata": {},
      "outputs": [
        {
          "name": "stderr",
          "output_type": "stream",
          "text": [
            "[2024-09-09 17:10:26][ERR][dtlpy:v1.91.37][services.api_client:1354] [Response <404>][Reason: Not Found][Text: {\"message\":\"(traceId:6a238db300aa005ed5e297f08ee45806/14033512225059301426) Failed to get project 32e17d45-76a4-4506-a7b3-068d142586b2. Error:  not found, Project 32e17d45-76a4-4506-a7b3-068d142586b2 not found, Request failed with status code 404\"}]\n"
          ]
        },
        {
          "ename": "NotFound",
          "evalue": "('404', '(traceId:6a238db300aa005ed5e297f08ee45806/14033512225059301426) Failed to get project 32e17d45-76a4-4506-a7b3-068d142586b2. Error:  not found, Project 32e17d45-76a4-4506-a7b3-068d142586b2 not found, Request failed with status code 404')",
          "output_type": "error",
          "traceback": [
            "\u001b[0;31m---------------------------------------------------------------------------\u001b[0m",
            "\u001b[0;31mNotFound\u001b[0m                                  Traceback (most recent call last)",
            "Cell \u001b[0;32mIn[10], line 3\u001b[0m\n\u001b[1;32m      1\u001b[0m \u001b[38;5;66;03m# /explain what dpk is\u001b[39;00m\n\u001b[1;32m      2\u001b[0m dpk \u001b[38;5;241m=\u001b[39m project\u001b[38;5;241m.\u001b[39mdpks\u001b[38;5;241m.\u001b[39mget(dpk_name\u001b[38;5;241m=\u001b[39m\u001b[38;5;124m\"\u001b[39m\u001b[38;5;124mml-compare-example\u001b[39m\u001b[38;5;124m\"\u001b[39m)\n\u001b[0;32m----> 3\u001b[0m app \u001b[38;5;241m=\u001b[39m \u001b[43mproject\u001b[49m\u001b[38;5;241;43m.\u001b[39;49m\u001b[43mapps\u001b[49m\u001b[38;5;241;43m.\u001b[39;49m\u001b[43minstall\u001b[49m\u001b[43m(\u001b[49m\u001b[43mdpk\u001b[49m\u001b[38;5;241;43m=\u001b[39;49m\u001b[43mdpk\u001b[49m\u001b[43m)\u001b[49m\n",
            "File \u001b[0;32m~/Desktop/Repos/jupyter-notebook-app/.venv/lib/python3.10/site-packages/dtlpy/repositories/apps.py:231\u001b[0m, in \u001b[0;36mApps.install\u001b[0;34m(self, dpk, app_name, organization_id, custom_installation, scope)\u001b[0m\n\u001b[1;32m    227\u001b[0m success, response \u001b[38;5;241m=\u001b[39m \u001b[38;5;28mself\u001b[39m\u001b[38;5;241m.\u001b[39m_client_api\u001b[38;5;241m.\u001b[39mgen_request(req_type\u001b[38;5;241m=\u001b[39m\u001b[38;5;124m'\u001b[39m\u001b[38;5;124mpost\u001b[39m\u001b[38;5;124m'\u001b[39m,\n\u001b[1;32m    228\u001b[0m                                                  path\u001b[38;5;241m=\u001b[39m\u001b[38;5;124m\"\u001b[39m\u001b[38;5;124m/apps\u001b[39m\u001b[38;5;124m\"\u001b[39m,\n\u001b[1;32m    229\u001b[0m                                                  json_req\u001b[38;5;241m=\u001b[39mapp\u001b[38;5;241m.\u001b[39mto_json())\n\u001b[1;32m    230\u001b[0m \u001b[38;5;28;01mif\u001b[39;00m \u001b[38;5;129;01mnot\u001b[39;00m success:\n\u001b[0;32m--> 231\u001b[0m     \u001b[38;5;28;01mraise\u001b[39;00m \u001b[43mexceptions\u001b[49m\u001b[38;5;241;43m.\u001b[39;49m\u001b[43mPlatformException\u001b[49m\u001b[43m(\u001b[49m\u001b[43mresponse\u001b[49m\u001b[43m)\u001b[49m\n\u001b[1;32m    232\u001b[0m \u001b[38;5;28;01mreturn\u001b[39;00m entities\u001b[38;5;241m.\u001b[39mApp\u001b[38;5;241m.\u001b[39mfrom_json(_json\u001b[38;5;241m=\u001b[39mresponse\u001b[38;5;241m.\u001b[39mjson(),\n\u001b[1;32m    233\u001b[0m                               client_api\u001b[38;5;241m=\u001b[39m\u001b[38;5;28mself\u001b[39m\u001b[38;5;241m.\u001b[39m_client_api,\n\u001b[1;32m    234\u001b[0m                               project\u001b[38;5;241m=\u001b[39m\u001b[38;5;28mself\u001b[39m\u001b[38;5;241m.\u001b[39mproject)\n",
            "File \u001b[0;32m~/Desktop/Repos/jupyter-notebook-app/.venv/lib/python3.10/site-packages/dtlpy/exceptions.py:49\u001b[0m, in \u001b[0;36mPlatformException.__init__\u001b[0;34m(self, error, message)\u001b[0m\n\u001b[1;32m     46\u001b[0m     \u001b[38;5;28mself\u001b[39m\u001b[38;5;241m.\u001b[39mmessage \u001b[38;5;241m=\u001b[39m message\n\u001b[1;32m     48\u001b[0m \u001b[38;5;28;01mif\u001b[39;00m \u001b[38;5;28mself\u001b[39m\u001b[38;5;241m.\u001b[39mstatus_code \u001b[38;5;129;01min\u001b[39;00m exceptions:\n\u001b[0;32m---> 49\u001b[0m     \u001b[38;5;28;01mraise\u001b[39;00m exceptions[\u001b[38;5;28mself\u001b[39m\u001b[38;5;241m.\u001b[39mstatus_code](status_code\u001b[38;5;241m=\u001b[39m\u001b[38;5;28mself\u001b[39m\u001b[38;5;241m.\u001b[39mstatus_code, message\u001b[38;5;241m=\u001b[39m\u001b[38;5;28mself\u001b[39m\u001b[38;5;241m.\u001b[39mmessage)\n\u001b[1;32m     50\u001b[0m \u001b[38;5;28;01melse\u001b[39;00m:\n\u001b[1;32m     51\u001b[0m     \u001b[38;5;28;01mraise\u001b[39;00m UnknownException(status_code\u001b[38;5;241m=\u001b[39m\u001b[38;5;28mself\u001b[39m\u001b[38;5;241m.\u001b[39mstatus_code, message\u001b[38;5;241m=\u001b[39m\u001b[38;5;28mself\u001b[39m\u001b[38;5;241m.\u001b[39mmessage)\n",
            "\u001b[0;31mNotFound\u001b[0m: ('404', '(traceId:6a238db300aa005ed5e297f08ee45806/14033512225059301426) Failed to get project 32e17d45-76a4-4506-a7b3-068d142586b2. Error:  not found, Project 32e17d45-76a4-4506-a7b3-068d142586b2 not found, Request failed with status code 404')"
          ]
        }
      ],
      "source": [
        "\n",
        "dpk = project.dpks.get(dpk_name=\"ml-compare-example\")\n",
        "app = project.apps.install(dpk=dpk)"
      ]
    },
    {
      "cell_type": "markdown",
      "metadata": {},
      "source": [
        "## Get the dataset after the app is installed\n",
        "\n",
        "A dataset is a bucket collection of Items (files), their metadata and annotations. It can have a file-system-like structure with folders and subfolders at any level. A dataset is mapped to a Driver (which derives from an Integration), to contain items synced from external cloud storage. Dataset versioning actions include cloning and merging."
      ]
    },
    {
      "cell_type": "code",
      "execution_count": null,
      "metadata": {},
      "outputs": [],
      "source": [
        "dataset = project.datasets.get(dataset_name=\"V2 Plant Seedlings Dataset\")"
      ]
    },
    {
      "cell_type": "markdown",
      "metadata": {},
      "source": [
        "### 1. Model Get"
      ]
    },
    {
      "cell_type": "code",
      "execution_count": null,
      "metadata": {},
      "outputs": [],
      "source": [
        "model = project.models.get(model_name='pretrained-resnet')"
      ]
    },
    {
      "cell_type": "markdown",
      "metadata": {},
      "source": [
        "### 2. Model Clone"
      ]
    },
    {
      "cell_type": "markdown",
      "metadata": {},
      "source": [
        "To create a new copy of our existing model, run the following command\n",
        "<!-- why clone? explain more?, deploy, clone  then train t -->"
      ]
    },
    {
      "cell_type": "code",
      "execution_count": null,
      "metadata": {
        "scrolled": true
      },
      "outputs": [],
      "source": [
        "clone_model = model.clone(model_name='my pretrained resnet',\n",
        "                          description='pretrained cloned into my project',\n",
        "                          project_id=project_id)"
      ]
    },
    {
      "cell_type": "markdown",
      "metadata": {},
      "source": [
        "### 3. Model Deploy"
      ]
    },
    {
      "cell_type": "markdown",
      "metadata": {},
      "source": [
        "In case that the model is already ready for production, deploy it by the following command"
      ]
    },
    {
      "cell_type": "code",
      "execution_count": null,
      "metadata": {},
      "outputs": [],
      "source": [
        "model.deploy()"
      ]
    },
    {
      "cell_type": "markdown",
      "metadata": {},
      "source": [
        "### 4. Model Train"
      ]
    },
    {
      "cell_type": "markdown",
      "metadata": {},
      "source": [
        "Notice: Deployed models cannot be trained, so in this step and the next ones, the clone model that was created on [step 2: clone a model](model_management.ipynb#2-clone-a-model) will be used."
      ]
    },
    {
      "cell_type": "markdown",
      "metadata": {},
      "source": [
        "To train a model on a dataset we need to:\n",
        "1. Connect a dataset to the model, that will be used for the training.\n",
        "2. Add the train and validation filters to the model, that will help to split the data to train and validation dataloaders."
      ]
    },
    {
      "cell_type": "code",
      "execution_count": null,
      "metadata": {},
      "outputs": [],
      "source": [
        "train_filters = dl.Filters(field=\"metadata.system.tags.train\", values=True)\n",
        "validation_filters = dl.Filters(field=\"metadata.system.tags.validation\", values=True)\n",
        "\n",
        "clone_model.dataset_id = dataset.id\n",
        "clone_model.add_subset(subset_name=\"train\", subset_filter=train_filters)\n",
        "clone_model.add_subset(subset_name=\"validation\", subset_filter=validation_filters)\n",
        "clone_model.update(system_metadata=True)\n",
        "\n",
        "execution = clone_model.train(service_config={\n",
        "    \"name\": \"resnet-train-evaluate\",\n",
        "    \"runtime\": {\n",
        "        \"podType\": \"regular-m\",\n",
        "        \"concurrency\": 1,\n",
        "        \"runnerImage\": \"gcr.io/viewo-g/piper/agent/runner/apps/torch-models:0.1.4\",\n",
        "        \"autoscaler\": {\n",
        "            \"type\": \"rabbitmq\",\n",
        "            \"minReplicas\": 0,\n",
        "            \"maxReplicas\": 2,\n",
        "            \"queueLength\": 100\n",
        "        }\n",
        "    }\n",
        "})"
      ]
    },
    {
      "cell_type": "markdown",
      "metadata": {},
      "source": [
        "Wait for the training to finish"
      ]
    },
    {
      "cell_type": "code",
      "execution_count": null,
      "metadata": {},
      "outputs": [],
      "source": [
        "execution.wait()"
      ]
    },
    {
      "cell_type": "markdown",
      "metadata": {},
      "source": [
        "### 5. Model Predict"
      ]
    },
    {
      "cell_type": "markdown",
      "metadata": {},
      "source": [
        "First, get the spesifc item we want to perfrom prediction with our model"
      ]
    },
    {
      "cell_type": "code",
      "execution_count": null,
      "metadata": {},
      "outputs": [],
      "source": [
        "item_filename = '/Black-grass/6.png'\n",
        "\n",
        "item = dataset.items.get(filepath=item_filename)"
      ]
    },
    {
      "cell_type": "markdown",
      "metadata": {},
      "source": [
        "Run the model predict method on the item.\n",
        "\n",
        "Notice: Since the predict method expect to recive a list of item ids, we will add the item id to a list that will be sent to the method."
      ]
    },
    {
      "cell_type": "code",
      "execution_count": null,
      "metadata": {},
      "outputs": [],
      "source": [
        "clone_model.predict(item_ids=[item.id])"
      ]
    },
    {
      "cell_type": "markdown",
      "metadata": {},
      "source": [
        "### 6. Model Evaluate"
      ]
    },
    {
      "cell_type": "markdown",
      "metadata": {},
      "source": [
        "Notice: To evaluate a model we need to:\n",
        "1. Get a dataset, that will be used for the evaluation.\n",
        "2. Define the test filters, to build the test dataloader."
      ]
    },
    {
      "cell_type": "code",
      "execution_count": null,
      "metadata": {},
      "outputs": [],
      "source": [
        "test_filters = dl.Filters(field='metadata.system.tags.test', values=True)\n",
        "\n",
        "clone_model.evaluate(dataset_id=dataset.id,\n",
        "                     filters=test_filters)"
      ]
    }
  ],
  "metadata": {
    "kernelspec": {
      "display_name": "Python 3 (ipykernel)",
      "language": "python",
      "name": "python3"
    },
    "language_info": {
      "codemirror_mode": {
        "name": "ipython",
        "version": 3
      },
      "file_extension": ".py",
      "mimetype": "text/x-python",
      "name": "python",
      "nbconvert_exporter": "python",
      "pygments_lexer": "ipython3",
      "version": "3.10.14"
    }
  },
  "nbformat": 4,
  "nbformat_minor": 4
}
